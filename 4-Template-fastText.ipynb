{
 "cells": [
  {
   "cell_type": "markdown",
   "metadata": {},
   "source": [
    "### NLBSE'24 FastText Baseline"
   ]
  },
  {
   "cell_type": "code",
   "execution_count": 1,
   "metadata": {},
   "outputs": [],
   "source": [
    "RANDOM_SEED = 42\n",
    "OUTPUT_PATH = 'output/fasttext'\n",
    "\n",
    "!mkdir -p $OUTPUT_PATH"
   ]
  },
  {
   "cell_type": "code",
   "execution_count": 2,
   "metadata": {},
   "outputs": [
    {
     "name": "stderr",
     "output_type": "stream",
     "text": [
      "/usr/local/python/3.10.13/lib/python3.10/site-packages/tqdm/auto.py:21: TqdmWarning: IProgress not found. Please update jupyter and ipywidgets. See https://ipywidgets.readthedocs.io/en/stable/user_install.html\n",
      "  from .autonotebook import tqdm as notebook_tqdm\n"
     ]
    },
    {
     "data": {
      "text/plain": [
       "DatasetDict({\n",
       "    train: Dataset({\n",
       "        features: ['repo', 'created_at', 'label', 'title', 'body'],\n",
       "        num_rows: 1500\n",
       "    })\n",
       "    test: Dataset({\n",
       "        features: ['repo', 'created_at', 'label', 'title', 'body'],\n",
       "        num_rows: 1500\n",
       "    })\n",
       "})"
      ]
     },
     "execution_count": 2,
     "metadata": {},
     "output_type": "execute_result"
    }
   ],
   "source": [
    "from datasets import Dataset\n",
    "\n",
    "ds = Dataset.from_csv({ \"train\": \"data/issues_train.csv\", \"test\": \"data/issues_test.csv\" })\n",
    "ds"
   ]
  },
  {
   "cell_type": "code",
   "execution_count": 3,
   "metadata": {},
   "outputs": [
    {
     "name": "stdout",
     "output_type": "stream",
     "text": [
      "['facebook/react', 'tensorflow/tensorflow', 'microsoft/vscode', 'bitcoin/bitcoin', 'opencv/opencv']\n"
     ]
    }
   ],
   "source": [
    "repos = ds[\"train\"].unique(\"repo\")\n",
    "print(repos)"
   ]
  },
  {
   "cell_type": "code",
   "execution_count": 4,
   "metadata": {},
   "outputs": [
    {
     "data": {
      "text/html": [
       "<div>\n",
       "<style scoped>\n",
       "    .dataframe tbody tr th:only-of-type {\n",
       "        vertical-align: middle;\n",
       "    }\n",
       "\n",
       "    .dataframe tbody tr th {\n",
       "        vertical-align: top;\n",
       "    }\n",
       "\n",
       "    .dataframe thead th {\n",
       "        text-align: right;\n",
       "    }\n",
       "</style>\n",
       "<table border=\"1\" class=\"dataframe\">\n",
       "  <thead>\n",
       "    <tr style=\"text-align: right;\">\n",
       "      <th>label</th>\n",
       "      <th>bug</th>\n",
       "      <th>feature</th>\n",
       "      <th>question</th>\n",
       "    </tr>\n",
       "    <tr>\n",
       "      <th>repo</th>\n",
       "      <th></th>\n",
       "      <th></th>\n",
       "      <th></th>\n",
       "    </tr>\n",
       "  </thead>\n",
       "  <tbody>\n",
       "    <tr>\n",
       "      <th>bitcoin/bitcoin</th>\n",
       "      <td>100</td>\n",
       "      <td>100</td>\n",
       "      <td>100</td>\n",
       "    </tr>\n",
       "    <tr>\n",
       "      <th>facebook/react</th>\n",
       "      <td>100</td>\n",
       "      <td>100</td>\n",
       "      <td>100</td>\n",
       "    </tr>\n",
       "    <tr>\n",
       "      <th>microsoft/vscode</th>\n",
       "      <td>100</td>\n",
       "      <td>100</td>\n",
       "      <td>100</td>\n",
       "    </tr>\n",
       "    <tr>\n",
       "      <th>opencv/opencv</th>\n",
       "      <td>100</td>\n",
       "      <td>100</td>\n",
       "      <td>100</td>\n",
       "    </tr>\n",
       "    <tr>\n",
       "      <th>tensorflow/tensorflow</th>\n",
       "      <td>100</td>\n",
       "      <td>100</td>\n",
       "      <td>100</td>\n",
       "    </tr>\n",
       "  </tbody>\n",
       "</table>\n",
       "</div>"
      ],
      "text/plain": [
       "label                  bug  feature  question\n",
       "repo                                         \n",
       "bitcoin/bitcoin        100      100       100\n",
       "facebook/react         100      100       100\n",
       "microsoft/vscode       100      100       100\n",
       "opencv/opencv          100      100       100\n",
       "tensorflow/tensorflow  100      100       100"
      ]
     },
     "execution_count": 4,
     "metadata": {},
     "output_type": "execute_result"
    }
   ],
   "source": [
    "ds[\"train\"].to_pandas().groupby([\"repo\", \"label\"]).size().unstack(fill_value=0)"
   ]
  },
  {
   "cell_type": "code",
   "execution_count": 5,
   "metadata": {},
   "outputs": [
    {
     "data": {
      "text/plain": [
       "DatasetDict({\n",
       "    train: Dataset({\n",
       "        features: ['repo', 'label', 'text'],\n",
       "        num_rows: 1500\n",
       "    })\n",
       "    test: Dataset({\n",
       "        features: ['repo', 'label', 'text'],\n",
       "        num_rows: 1500\n",
       "    })\n",
       "})"
      ]
     },
     "execution_count": 5,
     "metadata": {},
     "output_type": "execute_result"
    }
   ],
   "source": [
    "import gensim\n",
    "\n",
    "def process_dataset(example):\n",
    "\n",
    "    # concatenate title and body\n",
    "    text = (example['title'] or \"\") + \" \" + (example['body'] or \"\")\n",
    "\n",
    "    # escape fasttext special sequences\n",
    "    text = text.replace(\"__label__\", \"\")\n",
    "\n",
    "    # remove consecutive whitespace characters and convert tabs to spaces\n",
    "    text = gensim.parsing.preprocessing.strip_multiple_whitespaces(text)\n",
    "    \n",
    "    example['text'] = text\n",
    "\n",
    "    return example\n",
    "\n",
    "ds = ds.shuffle(seed=RANDOM_SEED)\n",
    "ds = ds.map(process_dataset)\n",
    "ds = ds.select_columns(['repo', 'label','text'])\n",
    "ds"
   ]
  },
  {
   "cell_type": "code",
   "execution_count": 6,
   "metadata": {},
   "outputs": [
    {
     "name": "stderr",
     "output_type": "stream",
     "text": [
      "Read 0M words\n",
      "Number of words:  9953\n",
      "Number of labels: 3\n",
      "Progress: 100.0% words/sec/thread: 4762628 lr:  0.000000 avg.loss:  0.410777 ETA:   0h 0m 0s\n",
      "Read 0M words\n",
      "Number of words:  15399\n",
      "Number of labels: 3\n",
      "Progress: 100.0% words/sec/thread: 3794275 lr:  0.000000 avg.loss:  0.576489 ETA:   0h 0m 0s\n",
      "Read 0M words\n",
      "Number of words:  7682\n",
      "Number of labels: 3\n",
      "Progress: 100.0% words/sec/thread: 3523742 lr:  0.000000 avg.loss:  0.395247 ETA:   0h 0m 0s\n",
      "Read 0M words\n",
      "Number of words:  15844\n",
      "Number of labels: 3\n",
      "Progress: 100.0% words/sec/thread: 3701482 lr:  0.000000 avg.loss:  0.452791 ETA:   0h 0m 0s\n",
      "Read 0M words\n",
      "Number of words:  15863\n",
      "Number of labels: 3\n",
      "Progress: 100.0% words/sec/thread: 4439443 lr:  0.000000 avg.loss:  0.559553 ETA:   0h 0m 0s\n"
     ]
    }
   ],
   "source": [
    "import fasttext\n",
    "\n",
    "def repo_eq(repo: str):\n",
    "    return lambda example: example['repo'] == repo\n",
    "\n",
    "def to_fasttext_train_file(dataset, o_path):\n",
    "    with open(o_path, \"w\", encoding='utf-8') as o_f:\n",
    "        for example in dataset:\n",
    "            o_f.write(f\"__label__{example['label']} {example['text']}\\n\")\n",
    "\n",
    "references = {}\n",
    "predictions = {}\n",
    "\n",
    "for repo in repos:\n",
    "    train_file = f\"{OUTPUT_PATH}/issues-{repo.replace('/','-')}.train\"\n",
    "    model_file = f\"{OUTPUT_PATH}/issues-{repo.replace('/','-')}.bin\"\n",
    "\n",
    "    train_set = ds.filter(repo_eq(repo))[\"train\"]\n",
    "\n",
    "    to_fasttext_train_file(train_set, train_file)\n",
    "\n",
    "    model = fasttext.train_supervised(input=train_file, epoch=100, seed=RANDOM_SEED)\n",
    "\n",
    "    model.save_model(model_file)\n",
    "    \n",
    "    test_set = ds.filter(repo_eq(repo))[\"test\"]\n",
    "    \n",
    "    references[repo] = test_set['label']\n",
    "    predictions[repo] = model.predict(test_set['text'], k=1)\n",
    "\n",
    "    predictions[repo] = predictions[repo][0]\n",
    "    predictions[repo] = [pred[0] for pred in predictions[repo]]\n",
    "    predictions[repo] = [pred.replace('__label__', '') for pred in predictions[repo]]\n"
   ]
  },
  {
   "cell_type": "code",
   "execution_count": 7,
   "metadata": {},
   "outputs": [],
   "source": [
    "from sklearn.metrics import classification_report\n",
    "from numpy import mean\n",
    "\n",
    "results = {}\n",
    "metrics = ['precision', 'recall', 'f1-score']\n",
    "labels = ['bug', 'feature', 'question']\n",
    "\n",
    "for repo in repos:\n",
    "  results[repo] = classification_report(references[repo], predictions[repo], digits=4, output_dict=True)\n",
    "  results[repo]['average'] = results[repo]['weighted avg']\n",
    "  results[repo] = {label: {metric: results[repo][label][metric] for metric in metrics} for label in labels + ['average']}\n",
    "\n",
    "results['overall'] = {label: {metric: mean([results[repo][label][metric] for repo in repos]) for metric in metrics} for label in labels + ['average']}\n"
   ]
  },
  {
   "cell_type": "code",
   "execution_count": 8,
   "metadata": {},
   "outputs": [
    {
     "name": "stdout",
     "output_type": "stream",
     "text": [
      "Repository               Label     Precision  Recall     F1\n",
      "---------------------------------------------------------------\n",
      "facebook/react           bug       0.9278     0.9000     0.9137     \n",
      "facebook/react           feature   0.7451     0.7600     0.7525     \n",
      "facebook/react           question  0.6931     0.7000     0.6965     \n",
      "facebook/react           average   0.7887     0.7867     0.7876     \n",
      "---------------------------------------------------------------\n",
      "tensorflow/tensorflow    bug       0.7364     0.8100     0.7714     \n",
      "tensorflow/tensorflow    feature   0.7889     0.7100     0.7474     \n",
      "tensorflow/tensorflow    question  0.6000     0.6000     0.6000     \n",
      "tensorflow/tensorflow    average   0.7084     0.7067     0.7063     \n",
      "---------------------------------------------------------------\n",
      "microsoft/vscode         bug       0.7640     0.6800     0.7196     \n",
      "microsoft/vscode         feature   0.6522     0.7500     0.6977     \n",
      "microsoft/vscode         question  0.7812     0.7500     0.7653     \n",
      "microsoft/vscode         average   0.7325     0.7267     0.7275     \n",
      "---------------------------------------------------------------\n",
      "bitcoin/bitcoin          bug       0.6860     0.5900     0.6344     \n",
      "bitcoin/bitcoin          feature   0.7248     0.7900     0.7560     \n",
      "bitcoin/bitcoin          question  0.5810     0.6100     0.5951     \n",
      "bitcoin/bitcoin          average   0.6639     0.6633     0.6618     \n",
      "---------------------------------------------------------------\n",
      "opencv/opencv            bug       0.7143     0.5500     0.6215     \n",
      "opencv/opencv            feature   0.6667     0.8400     0.7434     \n",
      "opencv/opencv            question  0.7732     0.7500     0.7614     \n",
      "opencv/opencv            average   0.7180     0.7133     0.7088     \n",
      "---------------------------------------------------------------\n",
      "overall                  bug       0.7657     0.7060     0.7321     \n",
      "overall                  feature   0.7155     0.7700     0.7394     \n",
      "overall                  question  0.6857     0.6820     0.6837     \n",
      "overall                  average   0.7223     0.7193     0.7184     \n"
     ]
    }
   ],
   "source": [
    "import json\n",
    "import os\n",
    "\n",
    "output_file_name = 'results.json'\n",
    "\n",
    "with open(os.path.join(OUTPUT_PATH, output_file_name), 'w') as fp:\n",
    "    json.dump(results, fp, indent=2)\n",
    "\n",
    "print(f\"Repository{' '*15}Label     Precision  Recall     F1\")\n",
    "for repo in repos + ['overall']:\n",
    "  print(\"-\"*63)\n",
    "  for label in labels + ['average']:\n",
    "    out = f\"{repo:<25}{label:<10}\"\n",
    "    for metric in metrics:\n",
    "      out += f\"{results[repo][label][metric]:<10.4f} \"\n",
    "    print(out)"
   ]
  }
 ],
 "metadata": {
  "kernelspec": {
   "display_name": "Python 3",
   "language": "python",
   "name": "python3"
  },
  "language_info": {
   "codemirror_mode": {
    "name": "ipython",
    "version": 3
   },
   "file_extension": ".py",
   "mimetype": "text/x-python",
   "name": "python",
   "nbconvert_exporter": "python",
   "pygments_lexer": "ipython3",
   "version": "3.10.13"
  }
 },
 "nbformat": 4,
 "nbformat_minor": 2
}
